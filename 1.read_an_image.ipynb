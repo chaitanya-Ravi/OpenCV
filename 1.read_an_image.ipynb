{
 "cells": [
  {
   "cell_type": "code",
   "execution_count": 1,
   "id": "c88b33c7",
   "metadata": {},
   "outputs": [],
   "source": [
    "import cv2"
   ]
  },
  {
   "cell_type": "code",
   "execution_count": 2,
   "id": "654e0ea3",
   "metadata": {},
   "outputs": [],
   "source": [
    "import tensorflow as tf"
   ]
  },
  {
   "cell_type": "code",
   "execution_count": 3,
   "id": "b0f740f9",
   "metadata": {},
   "outputs": [
    {
     "name": "stdout",
     "output_type": "stream",
     "text": [
      "2.3.0\n"
     ]
    }
   ],
   "source": [
    "print(tf.__version__)"
   ]
  },
  {
   "cell_type": "markdown",
   "id": "27642bd1",
   "metadata": {},
   "source": [
    "## coloring the images with 3 types\n",
    "### -1,0,1 "
   ]
  },
  {
   "cell_type": "code",
   "execution_count": 4,
   "id": "76f484a5",
   "metadata": {},
   "outputs": [],
   "source": [
    "img = cv2.imread('wallpapers_for PC/saurav ganguly batting hd photo.jpg',1)"
   ]
  },
  {
   "cell_type": "code",
   "execution_count": 6,
   "id": "ae25638a",
   "metadata": {},
   "outputs": [],
   "source": [
    "cv2.imshow(\"Image\",img)\n",
    "cv2.waitKey(0)### 0 indicate image will open inifinity time other than 0 it will wait upto that many secs\n",
    "cv2.destroyAllWindows()"
   ]
  },
  {
   "cell_type": "markdown",
   "id": "f467a377",
   "metadata": {},
   "source": [
    "### Resize the image"
   ]
  },
  {
   "cell_type": "code",
   "execution_count": 10,
   "id": "df4bc0dc",
   "metadata": {},
   "outputs": [],
   "source": [
    "resize_image = cv2.resize(img,(0,0),fx=0.5,fy=0.5)\n",
    "cv2.imshow(\"resize_image\",resize_image)\n",
    "cv2.waitKey(0)### 0 indicate image will open inifinity time other than 0 it will wait upto that many secs\n",
    "cv2.destroyAllWindows()"
   ]
  },
  {
   "cell_type": "markdown",
   "id": "e192a952",
   "metadata": {},
   "source": [
    "## Rotate image"
   ]
  },
  {
   "cell_type": "code",
   "execution_count": 14,
   "id": "cfb86278",
   "metadata": {},
   "outputs": [],
   "source": [
    "rotate_image = cv2.rotate(resize_image,cv2.cv2.ROTATE_90_COUNTERCLOCKWISE)"
   ]
  },
  {
   "cell_type": "code",
   "execution_count": 15,
   "id": "0e404850",
   "metadata": {},
   "outputs": [],
   "source": [
    "cv2.imshow(\"rotate_image\",rotate_image)\n",
    "cv2.waitKey(0)### 0 indicate image will open inifinity time other than 0 it will wait upto that many secs\n",
    "cv2.destroyAllWindows()"
   ]
  },
  {
   "cell_type": "markdown",
   "id": "75bfca0b",
   "metadata": {},
   "source": [
    "## Writing the image(creating the new image)"
   ]
  },
  {
   "cell_type": "code",
   "execution_count": 17,
   "id": "4e8e978f",
   "metadata": {},
   "outputs": [],
   "source": [
    "new_image = cv2.imwrite(\"wallpapers_for PC/new_dummy_image.jpg\",resize_image)"
   ]
  },
  {
   "cell_type": "code",
   "execution_count": null,
   "id": "35c01d43",
   "metadata": {},
   "outputs": [],
   "source": []
  }
 ],
 "metadata": {
  "kernelspec": {
   "display_name": "Python 3",
   "language": "python",
   "name": "python3"
  },
  "language_info": {
   "codemirror_mode": {
    "name": "ipython",
    "version": 3
   },
   "file_extension": ".py",
   "mimetype": "text/x-python",
   "name": "python",
   "nbconvert_exporter": "python",
   "pygments_lexer": "ipython3",
   "version": "3.7.10"
  }
 },
 "nbformat": 4,
 "nbformat_minor": 5
}
