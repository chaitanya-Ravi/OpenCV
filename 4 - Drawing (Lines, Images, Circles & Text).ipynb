{
 "cells": [
  {
   "cell_type": "code",
   "execution_count": 1,
   "id": "ba66d7eb",
   "metadata": {},
   "outputs": [],
   "source": [
    "import numpy as np\n",
    "import cv2"
   ]
  },
  {
   "cell_type": "code",
   "execution_count": 40,
   "id": "9d1eb98a",
   "metadata": {},
   "outputs": [],
   "source": [
    "cap = cv2.VideoCapture(0)\n",
    "while True:\n",
    "    ret, frame = cap.read()\n",
    "    width = int(cap.get(3))\n",
    "    height = int(cap.get(4))\n",
    "    img = cv2.line(frame,(0,0),(width,height),(255,0,0),10)\n",
    "    img = cv2.line(img,(0,height),(width,0),(0,255,0),8)\n",
    "    img = cv2.circle(img,(300,300),60,(0,0,255),5)##red\n",
    "    img = cv2.circle(img,(300,400),60,(0,123,255),-1)\n",
    "    img = cv2.rectangle(img,(100,100),(200,200),(255,0,0),2)\n",
    "    font = cv2.FONT_HERSHEY_SIMPLEX\n",
    "    img = cv2.putText(img,\"chaitanya is great\",(10,height-10),font,1,(0,0,255),4,cv2.LINE_AA)\n",
    "    \n",
    "    cv2.imshow(\"video\",img)\n",
    "    if cv2.waitKey(1) == ord('q'):\n",
    "        break\n",
    "        \n",
    "cap.release()\n",
    "cv2.destroyAllWindows()"
   ]
  },
  {
   "cell_type": "code",
   "execution_count": null,
   "id": "1c4c8800",
   "metadata": {},
   "outputs": [],
   "source": []
  }
 ],
 "metadata": {
  "kernelspec": {
   "display_name": "Python 3",
   "language": "python",
   "name": "python3"
  },
  "language_info": {
   "codemirror_mode": {
    "name": "ipython",
    "version": 3
   },
   "file_extension": ".py",
   "mimetype": "text/x-python",
   "name": "python",
   "nbconvert_exporter": "python",
   "pygments_lexer": "ipython3",
   "version": "3.7.10"
  }
 },
 "nbformat": 4,
 "nbformat_minor": 5
}
