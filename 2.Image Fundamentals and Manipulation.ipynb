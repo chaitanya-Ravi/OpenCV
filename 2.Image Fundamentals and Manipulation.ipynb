{
 "cells": [
  {
   "cell_type": "code",
   "execution_count": 1,
   "id": "25135543",
   "metadata": {},
   "outputs": [],
   "source": [
    "import cv2"
   ]
  },
  {
   "cell_type": "markdown",
   "id": "8d4542f9",
   "metadata": {},
   "source": [
    "## reading the color image"
   ]
  },
  {
   "cell_type": "code",
   "execution_count": 18,
   "id": "094ed7e8",
   "metadata": {},
   "outputs": [],
   "source": [
    "img = cv2.imread(\"wallpapers_for PC/saurav ganguly batting hd photo.jpg\",1)\n",
    "cv2.imshow(\"image\",img)\n",
    "cv2.waitKey(0)\n",
    "cv2.destroyAllWindows()"
   ]
  },
  {
   "cell_type": "code",
   "execution_count": 3,
   "id": "d62806ca",
   "metadata": {},
   "outputs": [
    {
     "name": "stdout",
     "output_type": "stream",
     "text": [
      "Shape of the image (1240, 1600, 3) \n",
      "Size of the image 5952000 \n",
      "Type of the image <class 'numpy.ndarray'>\n"
     ]
    }
   ],
   "source": [
    "print(\"Shape of the image\",img.shape,\"\\nSize of the image\",img.size,\"\\nType of the image\",type(img))"
   ]
  },
  {
   "cell_type": "markdown",
   "id": "dc745e22",
   "metadata": {},
   "source": [
    "## reading the black and white image"
   ]
  },
  {
   "cell_type": "code",
   "execution_count": 4,
   "id": "ec4f6ae3",
   "metadata": {},
   "outputs": [],
   "source": [
    "black_whiteimg = cv2.imread(\"wallpapers_for PC/saurav ganguly batting hd photo.jpg\",0)\n",
    "cv2.imshow(\"black_whiteimg\",black_whiteimg)\n",
    "cv2.waitKey(0)\n",
    "cv2.destroyAllWindows()"
   ]
  },
  {
   "cell_type": "code",
   "execution_count": 5,
   "id": "8bb49ab9",
   "metadata": {},
   "outputs": [
    {
     "name": "stdout",
     "output_type": "stream",
     "text": [
      "Shape of the image (1240, 1600) \n",
      "Size of the image 1984000 \n",
      "Type of the image <class 'numpy.ndarray'>\n"
     ]
    }
   ],
   "source": [
    "print(\"Shape of the image\",black_whiteimg.shape,\"\\nSize of the image\",black_whiteimg.size,\"\\nType of the image\",type(black_whiteimg))\n"
   ]
  },
  {
   "cell_type": "markdown",
   "id": "33f3a06a",
   "metadata": {},
   "source": [
    "## reading the transparent image"
   ]
  },
  {
   "cell_type": "code",
   "execution_count": 6,
   "id": "bd56f82c",
   "metadata": {},
   "outputs": [],
   "source": [
    "transparent_image = cv2.imread(\"wallpapers_for PC/saurav ganguly batting hd photo.jpg\",-1)\n",
    "cv2.imshow(\"transparent_image\",transparent_image)\n",
    "cv2.waitKey(0)\n",
    "cv2.destroyAllWindows()"
   ]
  },
  {
   "cell_type": "code",
   "execution_count": 7,
   "id": "9ce2d057",
   "metadata": {},
   "outputs": [
    {
     "name": "stdout",
     "output_type": "stream",
     "text": [
      "Shape of the image (1240, 1600, 3) \n",
      "Size of the image 5952000 \n",
      "Type of the image <class 'numpy.ndarray'>\n"
     ]
    }
   ],
   "source": [
    "print(\"Shape of the image\",transparent_image.shape,\"\\nSize of the image\",transparent_image.size,\"\\nType of the image\",type(transparent_image))"
   ]
  },
  {
   "cell_type": "code",
   "execution_count": 9,
   "id": "4b390693",
   "metadata": {},
   "outputs": [
    {
     "name": "stdout",
     "output_type": "stream",
     "text": [
      "[[[ 46  57  41]\n",
      "  [ 46  57  41]\n",
      "  [ 47  58  42]\n",
      "  ...\n",
      "  [183 180 172]\n",
      "  [182 180 172]\n",
      "  [184 182 174]]\n",
      "\n",
      " [[ 46  57  41]\n",
      "  [ 46  57  41]\n",
      "  [ 47  58  42]\n",
      "  ...\n",
      "  [183 180 172]\n",
      "  [182 180 172]\n",
      "  [184 182 174]]\n",
      "\n",
      " [[ 46  57  41]\n",
      "  [ 46  57  41]\n",
      "  [ 47  58  42]\n",
      "  ...\n",
      "  [183 180 172]\n",
      "  [181 179 171]\n",
      "  [184 182 174]]\n",
      "\n",
      " ...\n",
      "\n",
      " [[ 72 180 144]\n",
      "  [ 72 180 144]\n",
      "  [ 71 178 145]\n",
      "  ...\n",
      "  [ 61 178 139]\n",
      "  [ 60 177 138]\n",
      "  [ 60 177 138]]\n",
      "\n",
      " [[ 75 180 147]\n",
      "  [ 75 180 147]\n",
      "  [ 75 180 147]\n",
      "  ...\n",
      "  [ 59 176 137]\n",
      "  [ 60 177 138]\n",
      "  [ 62 179 140]]\n",
      "\n",
      " [[ 77 182 149]\n",
      "  [ 76 181 148]\n",
      "  [ 77 181 148]\n",
      "  ...\n",
      "  [ 58 175 136]\n",
      "  [ 60 177 138]\n",
      "  [ 63 180 141]]]\n"
     ]
    }
   ],
   "source": [
    "print(img)"
   ]
  },
  {
   "cell_type": "code",
   "execution_count": 16,
   "id": "a18365e8",
   "metadata": {
    "scrolled": true
   },
   "outputs": [
    {
     "name": "stdout",
     "output_type": "stream",
     "text": [
      "[[ 46  57  41]\n",
      " [ 46  57  41]\n",
      " [ 47  58  42]\n",
      " ...\n",
      " [183 180 172]\n",
      " [181 179 171]\n",
      " [184 182 174]]\n",
      "done\n",
      "[[38 52 40]\n",
      " [40 54 42]\n",
      " [41 55 44]\n",
      " ...\n",
      " [49 63 51]\n",
      " [50 64 52]\n",
      " [50 64 52]]\n",
      "done\n",
      "[16 26 33]\n"
     ]
    }
   ],
   "source": [
    "print(img[2])\n",
    "print(\"done\")\n",
    "print(img[2][45:400])\n",
    "print(\"done\")\n",
    "print(img[257][400])"
   ]
  },
  {
   "cell_type": "markdown",
   "id": "287ab670",
   "metadata": {},
   "source": [
    "## Copy and pasting particular part the image\n"
   ]
  },
  {
   "cell_type": "code",
   "execution_count": 29,
   "id": "7178581f",
   "metadata": {},
   "outputs": [],
   "source": [
    "img = cv2.imread(\"wallpapers_for PC/saurav ganguly batting hd photo.jpg\",1)\n",
    "copy_data = img[500:700,600:900]\n",
    "img[100:300,650:950] = copy_data\n",
    "cv2.imshow(\"image\",img)\n",
    "cv2.waitKey(0)\n",
    "cv2.destroyAllWindows()"
   ]
  },
  {
   "cell_type": "code",
   "execution_count": null,
   "id": "be6ad8ca",
   "metadata": {},
   "outputs": [],
   "source": []
  }
 ],
 "metadata": {
  "kernelspec": {
   "display_name": "Python 3",
   "language": "python",
   "name": "python3"
  },
  "language_info": {
   "codemirror_mode": {
    "name": "ipython",
    "version": 3
   },
   "file_extension": ".py",
   "mimetype": "text/x-python",
   "name": "python",
   "nbconvert_exporter": "python",
   "pygments_lexer": "ipython3",
   "version": "3.7.10"
  }
 },
 "nbformat": 4,
 "nbformat_minor": 5
}
